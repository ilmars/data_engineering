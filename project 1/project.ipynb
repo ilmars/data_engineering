{
 "cells": [
  {
   "cell_type": "markdown",
   "id": "aggressive-hunter",
   "metadata": {},
   "source": [
    "# Project Steps\n",
    "Below are steps you can follow to complete the project:\n",
    "\n",
    "## Create Tables\n",
    "1. Write CREATE statements in sql_queries.py to create each table.\n",
    "2. Write DROP statements in sql_queries.py to drop each table if it exists.\n",
    "3. Run create_tables.py to create your database and tables."
   ]
  },
  {
   "cell_type": "code",
   "execution_count": 8,
   "id": "connected-premium",
   "metadata": {},
   "outputs": [
    {
     "name": "stdout",
     "output_type": "stream",
     "text": [
      "Database created\n"
     ]
    }
   ],
   "source": [
    "!python create_tables.py"
   ]
  },
  {
   "cell_type": "markdown",
   "id": "tamil-locator",
   "metadata": {},
   "source": [
    "4. Run test.ipynb to confirm the creation of your tables with the correct columns. \n",
    "\n",
    "Make sure to click \"Restart kernel\" to close the connection to the database after running this notebook.\n",
    "\n",
    "## Build ETL Processes\n",
    "Follow instructions in the ``etl.ipynb`` notebook to develop ETL processes for each table. At the end of each table section, or at the end of the notebook, run ``test.ipynb`` to confirm that records were successfully inserted into each table. Remember to rerun ``create_tables.py`` to reset your tables before each time you run this notebook.\n",
    "\n",
    "## Build ETL Pipeline\n",
    "Use what you've completed in ``etl.ipynb`` to complete ``etl.py``, where you'll process the entire datasets. Remember to run ``create_tables.py`` before running ``etl.py`` to reset your tables. Run ``test.ipynb`` to confirm your records were successfully inserted into each table.\n",
    "\n",
    "## Document Process\n",
    "Do the following steps in your README.md file.\n",
    "\n",
    "Discuss the purpose of this database in the context of the startup, Sparkify, and their analytical goals.\n",
    "State and justify your database schema design and ETL pipeline.\n",
    "[Optional] Provide example queries and results for song play analysis.\n",
    "Here's a guide on Markdown Syntax.\n",
    "\n",
    "NOTE: You will not be able to run test.ipynb, etl.ipynb, or etl.py until you have run create_tables.py at least once to create the sparkifydb database, which these other files connect to.\n",
    "Project Rubric\n",
    "Read the project rubric before and during development of your project to ensure you meet all specifications."
   ]
  },
  {
   "cell_type": "code",
   "execution_count": null,
   "id": "jewish-thickness",
   "metadata": {},
   "outputs": [],
   "source": []
  }
 ],
 "metadata": {
  "kernelspec": {
   "display_name": "Python 3",
   "language": "python",
   "name": "python3"
  },
  "language_info": {
   "codemirror_mode": {
    "name": "ipython",
    "version": 3
   },
   "file_extension": ".py",
   "mimetype": "text/x-python",
   "name": "python",
   "nbconvert_exporter": "python",
   "pygments_lexer": "ipython3",
   "version": "3.9.1"
  }
 },
 "nbformat": 4,
 "nbformat_minor": 5
}
